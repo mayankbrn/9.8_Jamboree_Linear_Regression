{
  "nbformat": 4,
  "nbformat_minor": 0,
  "metadata": {
    "colab": {
      "provenance": [],
      "toc_visible": true,
      "authorship_tag": "ABX9TyMwfbRJTM8zYtJDcsjWo2k5",
      "include_colab_link": true
    },
    "kernelspec": {
      "name": "python3",
      "display_name": "Python 3"
    },
    "language_info": {
      "name": "python"
    }
  },
  "cells": [
    {
      "cell_type": "markdown",
      "metadata": {
        "id": "view-in-github",
        "colab_type": "text"
      },
      "source": [
        "<a href=\"https://colab.research.google.com/github/mayankbrn/9.8_Jamboree_Linear_Regression/blob/main/Jamboree_Education_Linear_Regression.ipynb\" target=\"_parent\"><img src=\"https://colab.research.google.com/assets/colab-badge.svg\" alt=\"Open In Colab\"/></a>"
      ]
    },
    {
      "cell_type": "markdown",
      "source": [
        "# Jamboree Education - Linear Regression"
      ],
      "metadata": {
        "id": "ReTX2wyjnAp-"
      }
    },
    {
      "cell_type": "markdown",
      "source": [
        "## About the Challenge"
      ],
      "metadata": {
        "id": "Xjy-GZBBpY7Q"
      }
    },
    {
      "cell_type": "markdown",
      "source": [
        "### Context"
      ],
      "metadata": {
        "id": "cBHtuXZ1nXHu"
      }
    },
    {
      "cell_type": "markdown",
      "source": [
        "Jamboree has helped thousands of students like you make it to top colleges abroad. Be it GMAT, GRE or SAT, their unique problem-solving methods ensure maximum scores with minimum effort.\n",
        "They recently launched a feature where students/learners can come to their website and check their probability of getting into the IVY league college. This feature estimates the chances of graduate admission from an Indian perspective."
      ],
      "metadata": {
        "id": "7DjY61jPnZtS"
      }
    },
    {
      "cell_type": "markdown",
      "source": [
        "### How can we help Jamboreee ?"
      ],
      "metadata": {
        "id": "nCB0RIrOne60"
      }
    },
    {
      "cell_type": "markdown",
      "source": [
        "Your analysis will help Jamboree in understanding what factors are important in graduate admissions and how these factors are interrelated among themselves. It will also help predict one's chances of admission given the rest of the variables."
      ],
      "metadata": {
        "id": "wBTueSVNnakP"
      }
    },
    {
      "cell_type": "markdown",
      "source": [
        "### Dataset"
      ],
      "metadata": {
        "id": "022BQKRRnilt"
      }
    },
    {
      "cell_type": "markdown",
      "source": [
        "[DataSet Link](https://drive.google.com/file/d/1Fn9O5VwgOa0t8VSOAhq8OomXQh3WbSb3/view?usp=drive_link)"
      ],
      "metadata": {
        "id": "jBaGa66Enju9"
      }
    },
    {
      "cell_type": "markdown",
      "source": [
        "### Column Profiling"
      ],
      "metadata": {
        "id": "u110JtEunsjz"
      }
    },
    {
      "cell_type": "markdown",
      "source": [
        "- Serial No. (Unique row ID)\n",
        "- GRE Scores (out of 340)\n",
        "- TOEFL Scores (out of 120)\n",
        "- University Rating (out of 5)\n",
        "- Statement of Purpose and Letter of Recommendation Strength (out of 5)\n",
        "- Undergraduate GPA (out of 10)\n",
        "- Research Experience (either 0 or 1)\n",
        "- Chance of Admit (ranging from 0 to 1)"
      ],
      "metadata": {
        "id": "OTxgxS4ToCKT"
      }
    },
    {
      "cell_type": "markdown",
      "source": [
        "### Concepts Used"
      ],
      "metadata": {
        "id": "jzTO2-BIoL7x"
      }
    },
    {
      "cell_type": "markdown",
      "source": [
        "- Exploratory Data Analysis\n",
        "- Linear Regression\n"
      ],
      "metadata": {
        "id": "RBsJlqdgoPaS"
      }
    },
    {
      "cell_type": "markdown",
      "source": [
        "### What does good looks like?"
      ],
      "metadata": {
        "id": "HJnLxaswoV7H"
      }
    },
    {
      "cell_type": "markdown",
      "source": [
        "Here’s the content in raw format:\n",
        "\n",
        "- Import the dataset and perform exploratory data analysis steps:\n",
        "  - Check the structure and characteristics of the dataset.\n",
        "- Drop the unique row identifier if present:\n",
        "  - This step is crucial as it prevents the model from interpreting row numbers as meaningful features.\n",
        "- Perform non-graphical and graphical analysis:\n",
        "  - Analyze the distribution of variables related to graduate applicants.\n",
        "  - Ensure there is a diverse range of applicants based on merit.\n",
        "- Understand relationships between factors impacting graduate admissions:\n",
        "  - Check correlations among independent variables and their interactions.\n",
        "- Apply Linear Regression using the Statsmodel library and explain results.\n",
        "- Test the assumptions of linear regression:\n",
        "  - **Multicollinearity:** Check using VIF scores.\n",
        "  - **Mean of Residuals:** Ensure residuals have a mean close to zero.\n",
        "  - **Linearity:** Look for no clear pattern in the residual plot.\n",
        "  - **Homoscedasticity:** Confirm equal variance of residuals.\n",
        "  - **Normality of Residuals:** Check if residuals follow a normal distribution.\n",
        "- Evaluate the model using:\n",
        "  - Mean Absolute Error (MAE)\n",
        "  - Root Mean Square Error (RMSE)\n",
        "  - R² score\n",
        "  - Adjusted R² score\n",
        "- Provide actionable insights and recommendations.\n",
        "- Experiment with different types of Linear Regressions."
      ],
      "metadata": {
        "id": "dEoewRkhostl"
      }
    },
    {
      "cell_type": "markdown",
      "source": [
        "### Evaluation Criteria (100 points):"
      ],
      "metadata": {
        "id": "1Loc8y-hoxqj"
      }
    },
    {
      "cell_type": "markdown",
      "source": [
        "Here’s the content in raw format for Google Colab:\n",
        "\n",
        "- **Define Problem Statement and perform Exploratory Data Analysis (10 points)**\n",
        "  - Definition of problem (as per given problem statement with additional views).\n",
        "  - Observations on shape of data, data types of all the attributes, conversion of categorical attributes to 'category' (If required), missing value detection, statistical summary.\n",
        "  - **Univariate Analysis:** Distribution plots of all the continuous variable(s), barplots/countplots of all the categorical variables.\n",
        "  - **Bivariate Analysis:** Relationships between important variables such as workday and count, season and count, weather and count.\n",
        "  - Illustrate the insights based on EDA.\n",
        "   - Comments on range of attributes, outliers of various attributes.\n",
        "   - Comments on the distribution of the variables and relationship between them.\n",
        "   - Comments for each univariate and bivariate plots.\n",
        "\n",
        "- **Data Preprocessing (10 Points)**\n",
        "  - Duplicate value check.\n",
        "  - Missing value treatment.\n",
        "  - Outlier treatment.\n",
        "  - Feature engineering.\n",
        "  - Data preparation for modeling.\n",
        "\n",
        "- **Model Building (10 Points)**\n",
        "  - Build the Linear Regression model and comment on the model statistics.\n",
        "  - Display model coefficients with column names.\n",
        "  - Try out Ridge and Lasso regression.\n",
        "\n",
        "- **Testing the Assumptions of the Linear Regression Model (50 Points)**\n",
        "  - **Multicollinearity check by VIF score:** Variables are dropped one-by-one till none has VIF > 5. (10 Points)\n",
        "  - **Mean of residuals is nearly zero** (10 Points).\n",
        "  - **Linearity of variables:** No pattern in the residual plot. (10 Points)\n",
        "  - **Test for Homoscedasticity** (10 Points).\n",
        "  - **Normality of residuals:** Almost bell-shaped curve in residuals distribution; points in QQ plot are almost all on the line. (10 Points)\n",
        "\n",
        "- **Model Performance Evaluation (10 Points)**\n",
        "  - Metrics checked - MAE, RMSE, R², Adj R².\n",
        "  - Train and test performances are checked.\n",
        "  - Comments on the performance measures and if there is any need to improve the model or not.\n",
        "\n",
        "- **Actionable Insights & Recommendations (10 Points)**\n",
        "  - Comments on significance of predictor variables.\n",
        "  - Comments on additional data sources for model improvement, model implementation in the real world, potential business benefits from improving the model (These are key to differentiating a good and an excellent solution)."
      ],
      "metadata": {
        "id": "dYgMmWMmo-LO"
      }
    },
    {
      "cell_type": "markdown",
      "source": [
        "## Solution ▶"
      ],
      "metadata": {
        "id": "2_x0pSaQpm0I"
      }
    }
  ]
}